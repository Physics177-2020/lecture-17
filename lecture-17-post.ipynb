{
 "cells": [
  {
   "cell_type": "markdown",
   "metadata": {
    "colab_type": "text",
    "id": "5x5fSQumHDBF"
   },
   "source": [
    "# Lecture 17: Newton's method\n",
    "\n",
    "In the last lecture we saw that, even after implementing a reasonable [line search](https://en.wikipedia.org/wiki/Line_search) method, it can take a long time for gradient descent algorithms to approach the minimum of a function. One example where this can happen is in multidimensional functions where the curvature along different dimensions is significantly unbalanced. \n",
    "\n",
    "[Newton's method](https://en.wikipedia.org/wiki/Newton%27s_method_in_optimization) can help us to get around this specific problem by taking the curvature of the function into account. This method works by expanding the function $f(\\underline{x})$ to second order,\n",
    "\n",
    "$$\n",
    "f(\\underline{x} + \\underline{s}) = f(\\underline{x}) + \\underline{s}^T\\nabla f(\\underline{x}) + \\underline{s}^T \\nabla^2 f(\\underline{x}) \\underline{s}\\,.\n",
    "$$\n",
    "\n",
    "We can then solve for the step direction $\\underline{s}$ that minimizes the function. The resulting step direction is called the **Newtwon direction**,\n",
    "\n",
    "$$\n",
    "\\underline{s}_N = -\\left[\\nabla^2 f(\\underline{x})\\right]^{-1} \\nabla f(\\underline{x})\\,.\n",
    "$$\n",
    "\n",
    "Note that this direction is different from the steepest descent direction! One interesting feature of Newton's method is that, unlike steepest descent, the equation above sets a \"natural\" step length. \n",
    "\n",
    "\n",
    "### Example: Optimizing an unbalanced quadratic function\n",
    "\n",
    "Let's return to the example that gave us trouble last time: a two-dimensional quadratic function, \n",
    "\n",
    "$$\n",
    "f(\\underline{x}) = a_1 x_1^2 + a_2 x_2^2\\,,\n",
    "$$\n",
    "\n",
    "with $a_1 = 1$ and $a_2 = 1000$. This function is clearly imbalanced -- deviations from zero are penalized much more strongly for the second dimension than for the first. As a result, it becomes harder to effectively \"move\" the parameters along the first dimension with gradient descent. Let's begin to explore this by plotting the function."
   ]
  },
  {
   "cell_type": "code",
   "execution_count": 1,
   "metadata": {
    "colab": {
     "base_uri": "https://localhost:8080/",
     "height": 365
    },
    "colab_type": "code",
    "id": "BhxBqoNBHDBG",
    "outputId": "c37e1346-2f88-4ed2-a347-c0d7586449de"
   },
   "outputs": [
    {
     "data": {
      "image/png": "[encoded data removed]",
      "text/plain": [
       "<Figure size 432x288 with 1 Axes>"
      ]
     },
     "metadata": {
      "needs_background": "light"
     },
     "output_type": "display_data"
    }
   ],
   "source": [
    "import numpy as np\n",
    "import seaborn as sns\n",
    "import matplotlib.pyplot as plt\n",
    "\n",
    "\n",
    "# Define the quadratic function\n",
    "\n",
    "a = np.array([1., 1000.])\n",
    "\n",
    "def f(x):\n",
    "    return np.sum(a * (x**2))\n",
    "\n",
    "\n",
    "# Plot the function\n",
    "\n",
    "delta = 0.025\n",
    "x = np.arange(-1.0, 1.0, delta)\n",
    "y = np.arange(-1.0, 1.0, delta)\n",
    "X, Y = np.meshgrid(x, y)\n",
    "Z = (a[0]*X**2) + (a[1]*Y**2)\n",
    "\n",
    "plt.contour(X, Y, Z)\n",
    "plt.xticks([-1, 0, 1])\n",
    "plt.yticks([-1, 0, 1])\n",
    "plt.xlabel('dimension 1')\n",
    "plt.ylabel('dimension 2');"
   ]
  },
  {
   "cell_type": "code",
   "execution_count": 0,
   "metadata": {
    "colab": {},
    "colab_type": "code",
    "id": "lokclj3vHDBK"
   },
   "outputs": [],
   "source": [
    "\n",
    "\n",
    "\n",
    "\n",
    "\n",
    "\n",
    "\n",
    "\n",
    "\n",
    "\n",
    "\n",
    "\n",
    "\n",
    "\n",
    "\n",
    "\n",
    "\n",
    "\n",
    "\n",
    "\n",
    "\n",
    "\n"
   ]
  },
  {
   "cell_type": "markdown",
   "metadata": {
    "colab_type": "text",
    "id": "byyi094MHDBN"
   },
   "source": [
    "We have to go a huge distance in the first dimension to change the function by the same amount as we get if we go just a small distance in the second dimension. This means that the derivatives are dominated by the second dimension, since they are perpendicular to the [level sets](https://en.wikipedia.org/wiki/Level_set) of the function in the above plot.\n",
    "\n",
    "### Comparing the step directions\n",
    "\n",
    "Let's examine this more carefully by explicitly computing the steepest descent direction, starting from the point $(0.9, 0.9)$."
   ]
  },
  {
   "cell_type": "code",
   "execution_count": 2,
   "metadata": {
    "colab": {
     "base_uri": "https://localhost:8080/",
     "height": 35
    },
    "colab_type": "code",
    "id": "T-Pa-Yt9HDBP",
    "outputId": "691570a0-43a8-40f6-d3d7-5363ea00c59f"
   },
   "outputs": [
    {
     "name": "stdout",
     "output_type": "stream",
     "text": [
      "The steepest descent direction is [   -1.8 -1800. ]\n"
     ]
    }
   ],
   "source": [
    "# Define the derivative function\n",
    "\n",
    "def df(x):\n",
    "    return 2*a*x\n",
    "\n",
    "\n",
    "# Compute the steepest descent direction\n",
    "\n",
    "x0 = np.array([0.9, 0.9])\n",
    "s  = -df(x0) # FILL THIS IN\n",
    "\n",
    "print('The steepest descent direction is {}'.format(s))"
   ]
  },
  {
   "cell_type": "code",
   "execution_count": 0,
   "metadata": {
    "colab": {},
    "colab_type": "code",
    "id": "VqzXx2Q4HDBS"
   },
   "outputs": [],
   "source": [
    "\n",
    "\n",
    "\n",
    "\n",
    "\n",
    "\n",
    "\n",
    "\n",
    "\n",
    "\n",
    "\n",
    "\n",
    "\n",
    "\n",
    "\n",
    "\n",
    "\n",
    "\n",
    "\n",
    "\n",
    "\n",
    "\n"
   ]
  },
  {
   "cell_type": "markdown",
   "metadata": {
    "colab_type": "text",
    "id": "Zn6FMgzVHDBW"
   },
   "source": [
    "As you can see, the steepest descent direction is pointed almost entirely along the second dimension. If we update the parameters in this direction, we will make little progress toward the minimum along the first dimension.\n",
    "\n",
    "Now, let's compute the Newton direction. This is more complicated because now we need to compute the **matrix** of second derivatives of our function (sometimes called the [Hessian](https://en.wikipedia.org/wiki/Hessian_matrix)), take its inverse, and multiply by the vector of derivatives:\n",
    "\n",
    "$$\n",
    "\\underline{s}_N = -\\left[\\nabla^2 f(\\underline{x})\\right]^{-1} \\nabla f(\\underline{x})\\,.\n",
    "$$"
   ]
  },
  {
   "cell_type": "code",
   "execution_count": 3,
   "metadata": {
    "colab": {
     "base_uri": "https://localhost:8080/",
     "height": 35
    },
    "colab_type": "code",
    "id": "8_fig5WVHDBW",
    "outputId": "c7cf1810-fe8f-4fb6-c3b7-98672b415d90"
   },
   "outputs": [
    {
     "name": "stdout",
     "output_type": "stream",
     "text": [
      "The Newton direction is [-0.9 -0.9]\n"
     ]
    }
   ],
   "source": [
    "# Get the matrix of second derivatives\n",
    "\n",
    "def ddf(x):\n",
    "    return np.diag(2*a) # diagonal 2x2 matrix with 2a on the diagonal!\n",
    "\n",
    "\n",
    "# Now compute the Newton direction\n",
    "\n",
    "x0  = np.array([0.9, 0.9])\n",
    "s_N = -np.matmul(np.linalg.inv(ddf(x0)), df(x0)) # FILL THIS IN\n",
    "\n",
    "print('The Newton direction is {}'.format(s_N))"
   ]
  },
  {
   "cell_type": "code",
   "execution_count": 4,
   "metadata": {
    "colab": {
     "base_uri": "https://localhost:8080/",
     "height": 53
    },
    "colab_type": "code",
    "id": "CCY9iFJBvncx",
    "outputId": "00342f86-99eb-48c8-c218-0ae0b911fcc3"
   },
   "outputs": [
    {
     "data": {
      "text/plain": [
       "array([[   1.,    0.],\n",
       "       [   0., 1000.]])"
      ]
     },
     "execution_count": 4,
     "metadata": {},
     "output_type": "execute_result"
    }
   ],
   "source": [
    "np.diag(a)"
   ]
  },
  {
   "cell_type": "code",
   "execution_count": 0,
   "metadata": {
    "colab": {},
    "colab_type": "code",
    "id": "XprVeT5eHDBa"
   },
   "outputs": [],
   "source": [
    "\n",
    "\n",
    "\n",
    "\n",
    "\n",
    "\n",
    "\n",
    "\n",
    "\n",
    "\n",
    "\n",
    "\n",
    "\n",
    "\n",
    "\n",
    "\n",
    "\n",
    "\n",
    "\n",
    "\n",
    "\n",
    "\n"
   ]
  },
  {
   "cell_type": "markdown",
   "metadata": {
    "colab_type": "text",
    "id": "gJYvp4lhHDBe"
   },
   "source": [
    "Because the function is actually quadratic, Newton's method points **precisely** toward the minimum of the function! More generally, when it can be calculated, the inclusion of curvature in Newton's method can greatly speed convergence. This is especially true in the neighborhood of the minimum (when we are close enough to the minimum, all functions can be well-approximated as quadratic).\n",
    "\n",
    "### Example: The Rosenbrock function\n",
    "\n",
    "The [Rosenbrock function](https://en.wikipedia.org/wiki/Rosenbrock_function) is a **non-convex** function that was originally designed for testing optimization algorithms. It is challenging to optimize for the same reasons as the quadratic function above -- the minimum lies in a long, shallow \"valley\" which is difficult to traverse by following the gradient. It is defined as \n",
    "\n",
    "$$\n",
    "f(\\underline{x}) = 100(x_2 − x_1^2)^2 + (1 − x_1)^2\\,.\n",
    "$$\n",
    "\n",
    "First, let's visualize the function."
   ]
  },
  {
   "cell_type": "code",
   "execution_count": 5,
   "metadata": {
    "colab": {
     "base_uri": "https://localhost:8080/",
     "height": 365
    },
    "colab_type": "code",
    "id": "awt11le5HDBf",
    "outputId": "4427265c-55bd-48fa-bc9b-51bfac308c71"
   },
   "outputs": [
    {
     "data": {
      "image/png": "[encoded data removed]",
      "text/plain": [
       "<Figure size 432x288 with 1 Axes>"
      ]
     },
     "metadata": {
      "needs_background": "light"
     },
     "output_type": "display_data"
    }
   ],
   "source": [
    "# Define the Rosenbrock function\n",
    "\n",
    "def f(x):\n",
    "    return 100 * (x[1] - x[0]**2)**2 + (1 - x[0])**2\n",
    "\n",
    "\n",
    "# Plot the function\n",
    "\n",
    "delta = 0.005\n",
    "x = np.arange(0, 2.0, delta)\n",
    "y = np.arange(0, 2.0, delta)\n",
    "X, Y = np.meshgrid(x, y)\n",
    "Z = np.log(100 * (Y - X**2)**2 + (1 - X)**2 + 0.1)\n",
    "\n",
    "plt.contour(X, Y, Z, cmap='RdBu')\n",
    "plt.xticks([0, 1, 2])\n",
    "plt.yticks([0, 1, 2])\n",
    "plt.xlabel('dimension 1')\n",
    "plt.ylabel('dimension 2');"
   ]
  },
  {
   "cell_type": "code",
   "execution_count": 0,
   "metadata": {
    "colab": {},
    "colab_type": "code",
    "id": "J57QWwxZHDBi"
   },
   "outputs": [],
   "source": [
    "\n",
    "\n",
    "\n",
    "\n",
    "\n",
    "\n",
    "\n",
    "\n",
    "\n",
    "\n",
    "\n",
    "\n",
    "\n",
    "\n",
    "\n",
    "\n",
    "\n",
    "\n",
    "\n",
    "\n",
    "\n",
    "\n"
   ]
  },
  {
   "cell_type": "markdown",
   "metadata": {
    "colab_type": "text",
    "id": "pm-ani4zHDBn"
   },
   "source": [
    "What would happen if we started at the point $(1.5, 1.5)$ and tried to use steepest descent? Let's compute the steepest descent direction."
   ]
  },
  {
   "cell_type": "code",
   "execution_count": 6,
   "metadata": {
    "colab": {
     "base_uri": "https://localhost:8080/",
     "height": 35
    },
    "colab_type": "code",
    "id": "PQwIF_iMHDBn",
    "outputId": "a604ea66-7995-491a-b94f-1f2058430115"
   },
   "outputs": [
    {
     "name": "stdout",
     "output_type": "stream",
     "text": [
      "The steepest descent direction is [-451.  150.]\n"
     ]
    }
   ],
   "source": [
    "# Define the derivative\n",
    "\n",
    "def df(x):\n",
    "    return np.array([-400 * (x[1] - x[0]**2) * x[0] - 2 * (1 - x[0]), 200 * (x[1] - x[0]**2)])\n",
    "\n",
    "\n",
    "# And compute the step direction\n",
    "\n",
    "x0 = np.array([1.5, 1.5])\n",
    "s  = -df(x0)\n",
    "\n",
    "print('The steepest descent direction is {}'.format(s))"
   ]
  },
  {
   "cell_type": "code",
   "execution_count": 0,
   "metadata": {
    "colab": {},
    "colab_type": "code",
    "id": "aM0ziZsHHDBr"
   },
   "outputs": [],
   "source": [
    "\n",
    "\n",
    "\n",
    "\n",
    "\n",
    "\n",
    "\n",
    "\n",
    "\n",
    "\n",
    "\n",
    "\n",
    "\n",
    "\n",
    "\n",
    "\n",
    "\n",
    "\n",
    "\n",
    "\n",
    "\n",
    "\n"
   ]
  },
  {
   "cell_type": "markdown",
   "metadata": {
    "colab_type": "text",
    "id": "ZYODRs9hHDBv"
   },
   "source": [
    "### Running gradient descent on the Rosenbrock function\n",
    "\n",
    "Let's import our gradient descent algorithm -- including the line search -- from last lecture and attempt to minimize the Rosenbrock function."
   ]
  },
  {
   "cell_type": "code",
   "execution_count": 7,
   "metadata": {
    "colab": {
     "base_uri": "https://localhost:8080/",
     "height": 1871
    },
    "colab_type": "code",
    "id": "cagwBAXsHDBw",
    "outputId": "dfa0b74e-bbc4-48c3-ba78-2a41f58221e1"
   },
   "outputs": [
    {
     "name": "stdout",
     "output_type": "stream",
     "text": [
      "iter\tx1\tx2\tf(x)\tdf/dx1\tdf/dx2\n",
      "0\t1.500\t1.500\t56.500\t451.000\t-150.000\n",
      "1\t1.204\t1.598\t2.222\t-70.723\t29.529\n",
      "2\t1.251\t1.579\t0.084\t-6.751\t2.899\n",
      "3\t1.255\t1.577\t0.065\t-0.247\t0.302\n",
      "4\t1.256\t1.577\t0.065\t0.512\t-0.000\n",
      "5\t1.255\t1.577\t0.065\t0.088\t0.168\n",
      "6\t1.250\t1.566\t0.064\t-1.608\t0.843\n",
      "7\t1.251\t1.565\t0.063\t-0.013\t0.206\n",
      "8\t1.251\t1.564\t0.063\t0.475\t0.010\n",
      "9\t1.250\t1.564\t0.063\t0.088\t0.165\n",
      "10\t1.245\t1.554\t0.062\t-1.698\t0.879\n",
      "11\t1.246\t1.553\t0.061\t-0.030\t0.209\n",
      "12\t1.246\t1.552\t0.061\t0.548\t-0.022\n",
      "13\t1.246\t1.552\t0.060\t0.094\t0.159\n",
      "14\t1.243\t1.548\t0.060\t-0.860\t0.542\n",
      "15\t1.244\t1.548\t0.060\t0.014\t0.190\n",
      "16\t1.244\t1.546\t0.059\t0.800\t-0.126\n",
      "17\t1.243\t1.546\t0.059\t0.110\t0.152\n",
      "18\t1.242\t1.545\t0.059\t-0.507\t0.399\n",
      "19\t1.242\t1.544\t0.059\t0.034\t0.182\n",
      "20\t1.241\t1.540\t0.059\t1.281\t-0.321\n",
      "21\t1.241\t1.540\t0.058\t0.140\t0.137\n",
      "22\t1.240\t1.539\t0.058\t-0.288\t0.310\n",
      "23\t1.241\t1.539\t0.058\t0.545\t-0.026\n",
      "24\t1.240\t1.539\t0.058\t0.096\t0.155\n",
      "25\t1.238\t1.535\t0.057\t-0.972\t0.585\n",
      "26\t1.238\t1.534\t0.057\t-0.000\t0.193\n",
      "27\t1.238\t1.534\t0.057\t0.392\t0.034\n",
      "28\t1.238\t1.534\t0.057\t-0.369\t0.341\n",
      "29\t1.238\t1.533\t0.057\t0.038\t0.177\n",
      "30\t1.237\t1.529\t0.056\t1.069\t-0.241\n",
      "31\t1.236\t1.529\t0.056\t0.132\t0.138\n",
      "32\t1.236\t1.528\t0.056\t-0.253\t0.293\n",
      "33\t1.236\t1.528\t0.056\t0.492\t-0.008\n",
      "34\t1.236\t1.528\t0.056\t0.095\t0.152\n",
      "35\t1.233\t1.524\t0.055\t-0.939\t0.570\n",
      "36\t1.234\t1.524\t0.055\t-0.005\t0.191\n",
      "37\t1.234\t1.523\t0.055\t0.406\t0.025\n",
      "38\t1.233\t1.523\t0.055\t-0.384\t0.345\n",
      "39\t1.234\t1.523\t0.055\t0.034\t0.176\n",
      "40\t1.233\t1.518\t0.054\t1.184\t-0.291\n",
      "41\t1.232\t1.518\t0.054\t0.145\t0.129\n",
      "42\t1.231\t1.518\t0.054\t-0.318\t0.317\n",
      "43\t1.232\t1.517\t0.054\t0.570\t-0.043\n",
      "44\t1.232\t1.517\t0.054\t0.102\t0.147\n",
      "45\t1.229\t1.514\t0.054\t-1.217\t0.682\n",
      "46\t1.230\t1.513\t0.053\t-0.032\t0.200\n",
      "47\t1.230\t1.512\t0.053\t0.531\t-0.029\n",
      "48\t1.229\t1.512\t0.053\t0.100\t0.146\n",
      "49\t1.227\t1.509\t0.053\t-1.158\t0.657\n",
      "50\t1.228\t1.508\t0.052\t-0.031\t0.198\n",
      "51\t1.228\t1.507\t0.052\t0.522\t-0.027\n",
      "52\t1.227\t1.507\t0.052\t0.100\t0.144\n",
      "53\t1.225\t1.504\t0.052\t-1.175\t0.663\n",
      "54\t1.226\t1.503\t0.051\t-0.036\t0.199\n",
      "55\t1.226\t1.502\t0.051\t0.542\t-0.037\n",
      "56\t1.225\t1.502\t0.051\t0.103\t0.142\n",
      "57\t1.223\t1.499\t0.051\t-1.268\t0.701\n",
      "58\t1.224\t1.498\t0.050\t-0.048\t0.202\n",
      "59\t1.224\t1.498\t0.050\t0.592\t-0.059\n",
      "60\t1.223\t1.498\t0.050\t0.108\t0.139\n",
      "61\t1.222\t1.496\t0.050\t-0.517\t0.394\n",
      "62\t1.223\t1.496\t0.050\t0.015\t0.176\n",
      "63\t1.223\t1.494\t0.050\t0.717\t-0.111\n",
      "64\t1.222\t1.494\t0.049\t0.119\t0.133\n",
      "65\t1.221\t1.493\t0.049\t-0.669\t0.455\n",
      "66\t1.221\t1.493\t0.049\t0.000\t0.181\n",
      "67\t1.221\t1.492\t0.049\t0.362\t0.033\n",
      "68\t1.221\t1.492\t0.049\t-0.320\t0.312\n",
      "69\t1.221\t1.491\t0.049\t0.555\t-0.046\n",
      "70\t1.221\t1.491\t0.049\t0.106\t0.138\n",
      "71\t1.220\t1.490\t0.049\t-0.498\t0.384\n",
      "72\t1.220\t1.490\t0.049\t0.014\t0.175\n",
      "73\t1.220\t1.488\t0.048\t0.716\t-0.113\n",
      "74\t1.220\t1.488\t0.048\t0.120\t0.131\n",
      "75\t1.218\t1.487\t0.048\t-0.695\t0.464\n",
      "76\t1.219\t1.486\t0.048\t-0.005\t0.182\n",
      "77\t1.219\t1.485\t0.048\t0.382\t0.023\n",
      "78\t1.218\t1.485\t0.048\t-0.344\t0.320\n",
      "79\t1.219\t1.485\t0.048\t0.582\t-0.059\n",
      "80\t1.218\t1.485\t0.048\t0.109\t0.134\n",
      "81\t1.217\t1.484\t0.048\t-0.550\t0.404\n",
      "82\t1.218\t1.483\t0.047\t0.007\t0.176\n",
      "83\t1.217\t1.481\t0.047\t0.800\t-0.150\n",
      "84\t1.217\t1.482\t0.047\t0.130\t0.125\n",
      "85\t1.216\t1.481\t0.047\t-0.251\t0.281\n",
      "86\t1.217\t1.481\t0.047\t0.461\t-0.011\n",
      "87\t1.216\t1.481\t0.047\t-0.443\t0.360\n",
      "88\t1.216\t1.480\t0.047\t0.016\t0.171\n",
      "89\t1.216\t1.479\t0.047\t0.679\t-0.101\n",
      "90\t1.216\t1.479\t0.047\t0.119\t0.128\n",
      "91\t1.215\t1.477\t0.047\t-0.688\t0.460\n",
      "92\t1.215\t1.477\t0.046\t-0.009\t0.181\n",
      "93\t1.215\t1.476\t0.046\t0.393\t0.015\n",
      "94\t1.214\t1.476\t0.046\t-0.356\t0.323\n",
      "95\t1.215\t1.476\t0.046\t0.023\t0.167\n",
      "96\t1.214\t1.474\t0.046\t0.582\t-0.063\n",
      "97\t1.214\t1.474\t0.046\t0.111\t0.130\n",
      "98\t1.213\t1.473\t0.046\t-0.585\t0.417\n",
      "99\t1.213\t1.473\t0.046\t-0.001\t0.176\n",
      "\n",
      "Found the minimum near x* = (1.213248, 1.472124), true minimum is (1, 1)\n"
     ]
    }
   ],
   "source": [
    "# Set line search parameters\n",
    "\n",
    "beta1 = 0.4    # Step size multiplier if sufficient decrease fails\n",
    "beta2 = 1.2    # Step size multiplier if curvature condition fails\n",
    "alpha = 0.001  # Sufficient decrease parameter\n",
    "gamma = 0.5    # Curvature condition parameter\n",
    "\n",
    "\n",
    "# Set steepest descent parameters\n",
    "\n",
    "epsilon  = 0.001  # Stopping condition -- end when |df/dx| < epsilon \n",
    "max_iter = 100    # Maximum number of iterations\n",
    "it       = 0      # Current iteration\n",
    "\n",
    "\n",
    "# Initialize and iteratre\n",
    "\n",
    "x0   = np.array([1.5, 1.5]) # Starting value of parameter\n",
    "x    = x0                   # Current value of the parameter\n",
    "dfdx = df(x0)               # Starting value of the derivative df/dx\n",
    "\n",
    "# Report status\n",
    "print('iter\\tx1\\tx2\\tf(x)\\tdf/dx1\\tdf/dx2')\n",
    "\n",
    "# Now loop through the steepest descent algorithm\n",
    "\n",
    "while np.sum(np.fabs(dfdx))>=epsilon and it<max_iter:\n",
    "    \n",
    "    # Report status\n",
    "    print('%d\\t%.3f\\t%.3f\\t%.3f\\t%.3f\\t%.3f' % (it, x[0], x[1], f(x), dfdx[0], dfdx[1]))\n",
    "    \n",
    "    # Choose the step direction\n",
    "    s = -df(x)\n",
    "    \n",
    "    # Choose how far to step in that direction\n",
    "    t = 1 \n",
    "    both_passed = False\n",
    "    \n",
    "    while not both_passed:\n",
    "\n",
    "        # Check for sufficient decrease fail\n",
    "\n",
    "        if f(x + (t*s)) > f(x) + (alpha * t * np.dot(df(x), s)):\n",
    "            t = beta1 * t\n",
    "\n",
    "        # If passed, check for curvature condition fail\n",
    "\n",
    "        elif np.dot(df(x + (t*s)), s) < gamma * np.dot(df(x), s):\n",
    "            t = beta2 * t\n",
    "\n",
    "        # If both passed, exit the loop\n",
    "\n",
    "        else:\n",
    "            both_passed = True\n",
    "    \n",
    "    # Update the parameters\n",
    "    x = x + t*s\n",
    "    \n",
    "    # Update the derivative\n",
    "    dfdx = df(x)\n",
    "    \n",
    "    # Update the iteration counter\n",
    "    it += 1\n",
    "    \n",
    "# Report the minimum\n",
    "print('\\nFound the minimum near x* = (%lf, %lf), true minimum is (1, 1)' % (x[0], x[1]))"
   ]
  },
  {
   "cell_type": "code",
   "execution_count": 0,
   "metadata": {
    "colab": {},
    "colab_type": "code",
    "id": "jCS0V8avHDBy"
   },
   "outputs": [],
   "source": [
    "\n",
    "\n",
    "\n",
    "\n",
    "\n",
    "\n",
    "\n",
    "\n",
    "\n",
    "\n",
    "\n",
    "\n",
    "\n",
    "\n",
    "\n",
    "\n",
    "\n",
    "\n",
    "\n",
    "\n",
    "\n",
    "\n"
   ]
  },
  {
   "cell_type": "markdown",
   "metadata": {
    "colab_type": "text",
    "id": "1EdddxrmHDB0"
   },
   "source": [
    "As promised, we get stuck in the long, shallow basin and we stop making progress.\n",
    "\n",
    "### Newton's method for the Rosenbrock function\n",
    "\n",
    "Let's compare this result with the answer from Newton's method. To do this we need to compute the matrix of second derivatives."
   ]
  },
  {
   "cell_type": "code",
   "execution_count": 8,
   "metadata": {
    "colab": {
     "base_uri": "https://localhost:8080/",
     "height": 35
    },
    "colab_type": "code",
    "id": "PsCuB-lgHDB2",
    "outputId": "70e292d5-17d8-4021-c0a5-562a3c1928b5"
   },
   "outputs": [
    {
     "name": "stdout",
     "output_type": "stream",
     "text": [
      "The Newton direction is [-0.00186335 -0.8126087 ]\n"
     ]
    }
   ],
   "source": [
    "# Get the matrix of second derivatives\n",
    "\n",
    "def ddf(x):\n",
    "    return np.array([[2 + 800*x[0]**2 - 400*(x[1] - x[0]**2), -400*x[0]], [-400*x[0], 200]])\n",
    "\n",
    "\n",
    "# Now compute the Newton direction\n",
    "\n",
    "x0  = np.array([0.7, 1.3])\n",
    "s_N = - np.matmul( np.linalg.inv(ddf(x0)), df(x0) ) # matrix multiplication\n",
    "\n",
    "print('The Newton direction is {}'.format(s_N))"
   ]
  },
  {
   "cell_type": "code",
   "execution_count": 0,
   "metadata": {
    "colab": {},
    "colab_type": "code",
    "id": "HEF3f6SCHDB6"
   },
   "outputs": [],
   "source": [
    "\n",
    "\n",
    "\n",
    "\n",
    "\n",
    "\n",
    "\n",
    "\n",
    "\n",
    "\n",
    "\n",
    "\n",
    "\n",
    "\n",
    "\n",
    "\n",
    "\n",
    "\n",
    "\n",
    "\n",
    "\n",
    "\n"
   ]
  },
  {
   "cell_type": "markdown",
   "metadata": {
    "colab_type": "text",
    "id": "_8PtK7QGHDB-"
   },
   "source": [
    "In this case, the step size differs dramatically. Though it is unbalanced, we can observe convergence toward the optimum. "
   ]
  },
  {
   "cell_type": "code",
   "execution_count": 9,
   "metadata": {
    "colab": {
     "base_uri": "https://localhost:8080/",
     "height": 143
    },
    "colab_type": "code",
    "id": "MPV_zlsfHDB-",
    "outputId": "be1384f4-910e-45e3-97be-2ee3ecda9bd1"
   },
   "outputs": [
    {
     "name": "stdout",
     "output_type": "stream",
     "text": [
      "iter\tx1\tx2\tf(x)\tdf/dx1\tdf/dx2\n",
      "0\t1.500\t1.500\t56.500\t451.000\t-150.000\n",
      "1\t1.497\t2.240\t0.247\t1.000\t-0.002\n",
      "2\t1.001\t0.757\t6.033\t98.357\t-49.124\n",
      "3\t1.001\t1.002\t0.000\t0.002\t-0.000\n",
      "\n",
      "Found the minimum near x* = (1.000000, 0.999999), true minimum is (1, 1)\n"
     ]
    }
   ],
   "source": [
    "epsilon  = 0.001  # Stopping condition -- end when |df/dx| < epsilon \n",
    "max_iter = 100    # Maximum number of iterations\n",
    "it       = 0      # Current iteration\n",
    "\n",
    "x0   = np.array([1.5, 1.5])  # Starting value of parameter\n",
    "x    = x0                    # Current value of the parameter\n",
    "dfdx = df(x0)                # Starting value of the derivative df/dx\n",
    "\n",
    "# Report status\n",
    "print('iter\\tx1\\tx2\\tf(x)\\tdf/dx1\\tdf/dx2')\n",
    "\n",
    "# Now loop through the steepest descent algorithm\n",
    "\n",
    "while np.sum(np.fabs(dfdx))>=epsilon and it<max_iter:\n",
    "    \n",
    "    # Report status\n",
    "    print('%d\\t%.3f\\t%.3f\\t%.3f\\t%.3f\\t%.3f' % (it, x[0], x[1], f(x), dfdx[0], dfdx[1]))\n",
    "    \n",
    "    # Choose the step direction\n",
    "    s = -np.matmul( np.linalg.inv(ddf(x)), df(x) )\n",
    "    \n",
    "    # Choose how far to step in that direction\n",
    "    t  = 1\n",
    "    \n",
    "    # Update the parameters\n",
    "    x += t * s\n",
    "    \n",
    "    # Update the derivative\n",
    "    dfdx = df(x)\n",
    "    \n",
    "    # Update the iteration counter\n",
    "    it += 1\n",
    "    \n",
    "# Report the minimum\n",
    "print('\\nFound the minimum near x* = (%lf, %lf), true minimum is (1, 1)' % (x[0], x[1]))"
   ]
  },
  {
   "cell_type": "code",
   "execution_count": 0,
   "metadata": {
    "colab": {},
    "colab_type": "code",
    "id": "pmxrA5G6HDCC"
   },
   "outputs": [],
   "source": []
  }
 ],
 "metadata": {
  "colab": {
   "name": "lecture-17.ipynb",
   "provenance": [],
   "version": "0.3.2"
  },
  "kernelspec": {
   "display_name": "Python 3",
   "language": "python",
   "name": "python3"
  },
  "language_info": {
   "codemirror_mode": {
    "name": "ipython",
    "version": 3
   },
   "file_extension": ".py",
   "mimetype": "text/x-python",
   "name": "python",
   "nbconvert_exporter": "python",
   "pygments_lexer": "ipython3",
   "version": "3.7.7"
  }
 },
 "nbformat": 4,
 "nbformat_minor": 1
}
